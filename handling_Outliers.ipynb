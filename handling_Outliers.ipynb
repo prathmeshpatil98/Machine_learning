{
  "nbformat": 4,
  "nbformat_minor": 0,
  "metadata": {
    "colab": {
      "provenance": [],
      "authorship_tag": "ABX9TyMeiqFU0IJh1Owcf2mZ+rXd",
      "include_colab_link": true
    },
    "kernelspec": {
      "name": "python3",
      "display_name": "Python 3"
    },
    "language_info": {
      "name": "python"
    }
  },
  "cells": [
    {
      "cell_type": "markdown",
      "metadata": {
        "id": "view-in-github",
        "colab_type": "text"
      },
      "source": [
        "<a href=\"https://colab.research.google.com/github/prathmeshpatil98/Machine_learning/blob/main/handling_Outliers.ipynb\" target=\"_parent\"><img src=\"https://colab.research.google.com/assets/colab-badge.svg\" alt=\"Open In Colab\"/></a>"
      ]
    },
    {
      "cell_type": "markdown",
      "source": [
        "## handling Outliers"
      ],
      "metadata": {
        "id": "f4kyWiQrnyFV"
      }
    },
    {
      "cell_type": "code",
      "source": [
        "import numpy as np"
      ],
      "metadata": {
        "id": "1oRU11u7u-Qu"
      },
      "execution_count": null,
      "outputs": []
    },
    {
      "cell_type": "code",
      "execution_count": null,
      "metadata": {
        "id": "g6tI3sHlnq56"
      },
      "outputs": [],
      "source": [
        "lst_marks = [45,32,56,75,89,54,32,89,90,87,67,54,45,98,99,67,74,1000,1100]\n"
      ]
    },
    {
      "cell_type": "code",
      "source": [
        "## Lower Fence ----- Higher Fence\n",
        "Q1 = np.percentile(lst_marks ,[25])\n",
        "print(Q1)"
      ],
      "metadata": {
        "colab": {
          "base_uri": "https://localhost:8080/"
        },
        "id": "HmN_AtlXuiDl",
        "outputId": "f44c24fb-043b-429a-e370-8ff7325d19e6"
      },
      "execution_count": null,
      "outputs": [
        {
          "output_type": "stream",
          "name": "stdout",
          "text": [
            "[54.]\n"
          ]
        }
      ]
    },
    {
      "cell_type": "code",
      "source": [
        "minimum,Q1,Q2,Q3,maximum = np.quantile(lst_marks , [0,0.25,0.50,0.75,1])\n",
        "minimum,Q1,Q2,Q3,maximum"
      ],
      "metadata": {
        "colab": {
          "base_uri": "https://localhost:8080/"
        },
        "id": "ZfyOafVdvMqg",
        "outputId": "95d24f8f-9657-48e3-9091-9a38e4d3de85"
      },
      "execution_count": null,
      "outputs": [
        {
          "output_type": "execute_result",
          "data": {
            "text/plain": [
              "(32.0, 54.0, 74.0, 89.5, 1100.0)"
            ]
          },
          "metadata": {},
          "execution_count": 6
        }
      ]
    },
    {
      "cell_type": "code",
      "source": [
        "IQR = Q3-Q1\n",
        "IQR"
      ],
      "metadata": {
        "colab": {
          "base_uri": "https://localhost:8080/"
        },
        "id": "J30JPR9zvnc3",
        "outputId": "dbed4506-56c8-42d1-ef36-df1db099dd21"
      },
      "execution_count": null,
      "outputs": [
        {
          "output_type": "execute_result",
          "data": {
            "text/plain": [
              "35.5"
            ]
          },
          "metadata": {},
          "execution_count": 8
        }
      ]
    },
    {
      "cell_type": "code",
      "source": [
        "lower_fence = Q1 - 1.5 *(IQR)\n",
        "Higher_fence = Q3 + 1.5 *(IQR)\n",
        "lower_fence , Higher_fence"
      ],
      "metadata": {
        "colab": {
          "base_uri": "https://localhost:8080/"
        },
        "id": "Cp5uHhBWvur3",
        "outputId": "bd77a0f5-57fa-45d8-a307-694ac6abe040"
      },
      "execution_count": null,
      "outputs": [
        {
          "output_type": "execute_result",
          "data": {
            "text/plain": [
              "(0.75, 142.75)"
            ]
          },
          "metadata": {},
          "execution_count": 9
        }
      ]
    },
    {
      "cell_type": "code",
      "source": [
        "outliers = []\n",
        "for i in lst_marks:\n",
        "    if i < lower_fence or i > Higher_fence:\n",
        "        print(\"Outlier:\", i)\n",
        "        outliers.append(i)"
      ],
      "metadata": {
        "colab": {
          "base_uri": "https://localhost:8080/"
        },
        "id": "LANYIlFnwJ8_",
        "outputId": "829dfc5c-b5dc-4d7a-ce14-75864c458921"
      },
      "execution_count": null,
      "outputs": [
        {
          "output_type": "stream",
          "name": "stdout",
          "text": [
            "Outlier: 1000\n",
            "Outlier: 1100\n"
          ]
        }
      ]
    },
    {
      "cell_type": "code",
      "source": [
        "import seaborn as sns\n",
        "sns.boxplot(lst_marks)"
      ],
      "metadata": {
        "colab": {
          "base_uri": "https://localhost:8080/",
          "height": 447
        },
        "id": "2HuRx5hKxOQn",
        "outputId": "2b066510-2565-4aa0-da8c-77956bcc1a51"
      },
      "execution_count": null,
      "outputs": [
        {
          "output_type": "execute_result",
          "data": {
            "text/plain": [
              "<Axes: >"
            ]
          },
          "metadata": {},
          "execution_count": 19
        },
        {
          "output_type": "display_data",
          "data": {
            "text/plain": [
              "<Figure size 640x480 with 1 Axes>"
            ],
            "image/png": "[encoded data removed]"
          },
          "metadata": {}
        }
      ]
    },
    {
      "cell_type": "code",
      "source": [],
      "metadata": {
        "id": "-8-4LJTVySk2"
      },
      "execution_count": null,
      "outputs": []
    }
  ]
}